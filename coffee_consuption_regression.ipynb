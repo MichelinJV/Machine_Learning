{
 "cells": [
  {
   "cell_type": "markdown",
   "metadata": {},
   "source": [
    "# Prevendo a Produção de Café"
   ]
  },
  {
   "cell_type": "markdown",
   "metadata": {},
   "source": [
    "# Objetivo\r\n",
    "\r\n",
    "Com as estatísticas retiradas do site da Organização Internacional do Café (ICO), que é a principal organização intergovernamental para o café, queremos prever a produção total do produto."
   ]
  },
  {
   "cell_type": "markdown",
   "metadata": {},
   "source": [
    "Dados retirados do site: <a href=\"https://www.ico.org/trade_statistics.asp?section=Statistics\" target=\"_blank\"> INTERNATIONAL COFFE ORGANIZATION - ICO </a>"
   ]
  },
  {
   "cell_type": "markdown",
   "metadata": {},
   "source": [
    "As colunas do dataset são:\r\n",
    " \r\n",
    "* disappearance.csv: Desaparecimento (consumo) em países importadores selecionados\r\n",
    "* domestic_consumption.csv: Consumo doméstico de todos os países exportadores\r\n",
    "* exports_calender-year.csv: Exportações de todas as formas de café de todos os países exportadores\r\n",
    "* exports_crop_year.csv: Exportações totais de todos os países exportadores\r\n",
    "* gross-opening_stocks.csv: Estoques iniciais brutos em todos os países exportadores\r\n",
    "* imports.csv: Importações por países importadores selecionados\r\n",
    "* indicator_prices.csv: preços indicativos de composição e de grupo da ICO\r\n",
    "* inventories.csv: Estoques de café verde em países importadores selecionados\r\n",
    "* prices_paid_to_growers.csv: Preços pagos aos produtores nos países exportadores\r\n",
    "* re_exports.csv: Reexportação por países importadores selecionados\r\n",
    "* retail_prices.csv: Preços de varejo do café torrado em países importadores selecionados\r\n",
    "* total_production.csv: Produção total de todos os países exportadores "
   ]
  },
  {
   "cell_type": "markdown",
   "metadata": {},
   "source": [
    "## 1. Carregando os Dados"
   ]
  },
  {
   "cell_type": "code",
   "execution_count": 11,
   "metadata": {},
   "outputs": [],
   "source": [
    "# Importando as bibliotecas\r\n",
    "import pandas as pd\r\n",
    "import numpy as np\r\n",
    "import seaborn as sns\r\n",
    "import matplotlib.pyplot as plt \r\n",
    "\r\n",
    "from sklearn.model_selection import train_test_split\r\n",
    "from sklearn.preprocessing import MinMaxScaler\r\n",
    "from sklearn.model_selection import cross_validate\r\n",
    "from sklearn.metrics import mean_squared_error, r2_score\r\n",
    "\r\n",
    "from sklearn.linear_model import Ridge, LinearRegression, Lasso\r\n",
    "from sklearn.svm import SVR\r\n",
    "from sklearn.tree import DecisionTreeRegressor\r\n",
    "from sklearn.ensemble import RandomForestRegressor\r\n"
   ]
  },
  {
   "cell_type": "code",
   "execution_count": 12,
   "metadata": {},
   "outputs": [],
   "source": [
    "# Carregando os datasets\r\n",
    "df1 = pd.read_csv('domestic-consumption.csv')\r\n",
    "df2 = pd.read_csv('exports-calendar-year.csv')\r\n",
    "df3 = pd.read_csv('exports-crop-year.csv')\r\n",
    "df4 = pd.read_csv('gross-opening-stocks.csv')\r\n",
    "df5 = pd.read_csv('total-production.csv')\r\n"
   ]
  },
  {
   "cell_type": "code",
   "execution_count": 13,
   "metadata": {},
   "outputs": [
    {
     "data": {
      "text/html": "<div>\n<style scoped>\n    .dataframe tbody tr th:only-of-type {\n        vertical-align: middle;\n    }\n\n    .dataframe tbody tr th {\n        vertical-align: top;\n    }\n\n    .dataframe thead th {\n        text-align: right;\n    }\n</style>\n<table border=\"1\" class=\"dataframe\">\n  <thead>\n    <tr style=\"text-align: right;\">\n      <th></th>\n      <th>domestic_consumption</th>\n      <th>1990</th>\n      <th>1991</th>\n      <th>1992</th>\n      <th>1993</th>\n      <th>1994</th>\n      <th>1995</th>\n      <th>1996</th>\n      <th>1997</th>\n      <th>1998</th>\n      <th>...</th>\n      <th>2009</th>\n      <th>2010</th>\n      <th>2011</th>\n      <th>2012</th>\n      <th>2013</th>\n      <th>2014</th>\n      <th>2015</th>\n      <th>2016</th>\n      <th>2017</th>\n      <th>2018</th>\n    </tr>\n  </thead>\n  <tbody>\n    <tr>\n      <th>0</th>\n      <td>Angola</td>\n      <td>20.0</td>\n      <td>30.0</td>\n      <td>35.0</td>\n      <td>20.00</td>\n      <td>25.0</td>\n      <td>10.0</td>\n      <td>20.0</td>\n      <td>40.0</td>\n      <td>30.0</td>\n      <td>...</td>\n      <td>30.000</td>\n      <td>30.0</td>\n      <td>30.0</td>\n      <td>30.0</td>\n      <td>30.0</td>\n      <td>30.0</td>\n      <td>30.0</td>\n      <td>30.0</td>\n      <td>30.0</td>\n      <td>30.0</td>\n    </tr>\n    <tr>\n      <th>1</th>\n      <td>Bolivia (Plurinational State of)</td>\n      <td>25.0</td>\n      <td>27.0</td>\n      <td>27.5</td>\n      <td>28.50</td>\n      <td>29.5</td>\n      <td>30.5</td>\n      <td>31.5</td>\n      <td>32.5</td>\n      <td>33.0</td>\n      <td>...</td>\n      <td>46.000</td>\n      <td>47.5</td>\n      <td>49.0</td>\n      <td>50.5</td>\n      <td>52.0</td>\n      <td>53.5</td>\n      <td>55.0</td>\n      <td>57.0</td>\n      <td>58.5</td>\n      <td>60.0</td>\n    </tr>\n    <tr>\n      <th>2</th>\n      <td>Brazil</td>\n      <td>8200.0</td>\n      <td>8500.0</td>\n      <td>8900.0</td>\n      <td>9100.00</td>\n      <td>9300.0</td>\n      <td>10100.0</td>\n      <td>11000.0</td>\n      <td>11500.0</td>\n      <td>12200.0</td>\n      <td>...</td>\n      <td>18390.000</td>\n      <td>19132.0</td>\n      <td>19720.0</td>\n      <td>20330.0</td>\n      <td>20085.0</td>\n      <td>20333.0</td>\n      <td>20508.0</td>\n      <td>21225.0</td>\n      <td>21997.0</td>\n      <td>22250.0</td>\n    </tr>\n    <tr>\n      <th>3</th>\n      <td>Burundi</td>\n      <td>2.0</td>\n      <td>1.6</td>\n      <td>1.7</td>\n      <td>1.91</td>\n      <td>2.0</td>\n      <td>2.0</td>\n      <td>2.0</td>\n      <td>2.0</td>\n      <td>2.0</td>\n      <td>...</td>\n      <td>1.399</td>\n      <td>2.0</td>\n      <td>2.0</td>\n      <td>2.0</td>\n      <td>2.0</td>\n      <td>2.0</td>\n      <td>2.0</td>\n      <td>2.0</td>\n      <td>2.0</td>\n      <td>2.0</td>\n    </tr>\n    <tr>\n      <th>4</th>\n      <td>Ecuador</td>\n      <td>350.0</td>\n      <td>350.0</td>\n      <td>350.0</td>\n      <td>350.00</td>\n      <td>350.0</td>\n      <td>350.0</td>\n      <td>300.0</td>\n      <td>300.0</td>\n      <td>300.0</td>\n      <td>...</td>\n      <td>150.000</td>\n      <td>150.0</td>\n      <td>150.0</td>\n      <td>150.0</td>\n      <td>155.0</td>\n      <td>155.0</td>\n      <td>155.0</td>\n      <td>155.0</td>\n      <td>155.0</td>\n      <td>155.0</td>\n    </tr>\n  </tbody>\n</table>\n<p>5 rows × 30 columns</p>\n</div>",
      "text/plain": "               domestic_consumption    1990    1991    1992     1993    1994  \\\n0                            Angola    20.0    30.0    35.0    20.00    25.0   \n1  Bolivia (Plurinational State of)    25.0    27.0    27.5    28.50    29.5   \n2                            Brazil  8200.0  8500.0  8900.0  9100.00  9300.0   \n3                           Burundi     2.0     1.6     1.7     1.91     2.0   \n4                           Ecuador   350.0   350.0   350.0   350.00   350.0   \n\n      1995     1996     1997     1998  ...       2009     2010     2011  \\\n0     10.0     20.0     40.0     30.0  ...     30.000     30.0     30.0   \n1     30.5     31.5     32.5     33.0  ...     46.000     47.5     49.0   \n2  10100.0  11000.0  11500.0  12200.0  ...  18390.000  19132.0  19720.0   \n3      2.0      2.0      2.0      2.0  ...      1.399      2.0      2.0   \n4    350.0    300.0    300.0    300.0  ...    150.000    150.0    150.0   \n\n      2012     2013     2014     2015     2016     2017     2018  \n0     30.0     30.0     30.0     30.0     30.0     30.0     30.0  \n1     50.5     52.0     53.5     55.0     57.0     58.5     60.0  \n2  20330.0  20085.0  20333.0  20508.0  21225.0  21997.0  22250.0  \n3      2.0      2.0      2.0      2.0      2.0      2.0      2.0  \n4    150.0    155.0    155.0    155.0    155.0    155.0    155.0  \n\n[5 rows x 30 columns]"
     },
     "execution_count": 13,
     "metadata": {},
     "output_type": "execute_result"
    }
   ],
   "source": [
    "# Visualizar as primeiras linhas do dataset\r\n",
    "df1.head()"
   ]
  },
  {
   "cell_type": "markdown",
   "metadata": {},
   "source": [
    "Os dados começam no ano de 1990 e terminam em 2018. Para que os dados antigos não interfiram numa previsão para anos mais recentes, vamos pegar apenas os últimos três anos (2016, 2017 e 2018) e  criar um novo dataset com a valores médios."
   ]
  },
  {
   "cell_type": "code",
   "execution_count": 14,
   "metadata": {},
   "outputs": [],
   "source": [
    "def year(dfs):\r\n",
    "    \r\n",
    "    ''' Seleciona os dados dos anos e 2016, 2017 e 2018, \r\n",
    "        cria um nodo dataset com os valores médios dos dados'''\r\n",
    "\r\n",
    "    list_df = [] # lista vazia para adicionar os dados\r\n",
    "\r\n",
    "    for df in dfs:\r\n",
    "        country = df[df.columns[0]] # pega a coluna com os nomes dos países\r\n",
    "        year = df[['2016','2017','2018']].mean(axis=1) # seleciona os anos e calcula os valores médios\r\n",
    "        df = pd.concat([country, year], axis=1) # junta os dados dos ano com os respectivos países\r\n",
    "        df.columns = ['Country', country.name] \r\n",
    "\r\n",
    "        list_df.append(df) # adiciona na lista  \r\n",
    "    \r\n",
    "    data = list_df[0]\r\n",
    "    for l in range(1,len(list_df)): # loop para todos os dados da lista\r\n",
    "        data = data.merge(list_df[l], on='Country') # junta os dados dos diferentes anos\r\n",
    "\r\n",
    "    return data  "
   ]
  },
  {
   "cell_type": "code",
   "execution_count": 15,
   "metadata": {},
   "outputs": [
    {
     "data": {
      "text/html": "<div>\n<style scoped>\n    .dataframe tbody tr th:only-of-type {\n        vertical-align: middle;\n    }\n\n    .dataframe tbody tr th {\n        vertical-align: top;\n    }\n\n    .dataframe thead th {\n        text-align: right;\n    }\n</style>\n<table border=\"1\" class=\"dataframe\">\n  <thead>\n    <tr style=\"text-align: right;\">\n      <th></th>\n      <th>Country</th>\n      <th>domestic_consumption</th>\n      <th>exports</th>\n      <th>exports_crop_year</th>\n      <th>gross_opening_stocks</th>\n      <th>total_production</th>\n    </tr>\n  </thead>\n  <tbody>\n    <tr>\n      <th>0</th>\n      <td>Angola</td>\n      <td>30.0</td>\n      <td>9.774466</td>\n      <td>10.074467</td>\n      <td>5.000000</td>\n      <td>40.074467</td>\n    </tr>\n    <tr>\n      <th>1</th>\n      <td>Bolivia (Plurinational State of)</td>\n      <td>58.5</td>\n      <td>23.678656</td>\n      <td>22.954467</td>\n      <td>0.000000</td>\n      <td>81.454467</td>\n    </tr>\n    <tr>\n      <th>2</th>\n      <td>Brazil</td>\n      <td>21824.0</td>\n      <td>33525.424863</td>\n      <td>33962.641833</td>\n      <td>9168.000000</td>\n      <td>57484.308500</td>\n    </tr>\n    <tr>\n      <th>3</th>\n      <td>Burundi</td>\n      <td>2.0</td>\n      <td>210.632311</td>\n      <td>207.273933</td>\n      <td>6.666667</td>\n      <td>209.773933</td>\n    </tr>\n    <tr>\n      <th>4</th>\n      <td>Ecuador</td>\n      <td>155.0</td>\n      <td>700.157323</td>\n      <td>659.819667</td>\n      <td>3.000000</td>\n      <td>623.153000</td>\n    </tr>\n  </tbody>\n</table>\n</div>",
      "text/plain": "                            Country  domestic_consumption       exports  \\\n0                            Angola                  30.0      9.774466   \n1  Bolivia (Plurinational State of)                  58.5     23.678656   \n2                            Brazil               21824.0  33525.424863   \n3                           Burundi                   2.0    210.632311   \n4                           Ecuador                 155.0    700.157323   \n\n   exports_crop_year  gross_opening_stocks  total_production  \n0          10.074467              5.000000         40.074467  \n1          22.954467              0.000000         81.454467  \n2       33962.641833           9168.000000      57484.308500  \n3         207.273933              6.666667        209.773933  \n4         659.819667              3.000000        623.153000  "
     },
     "execution_count": 15,
     "metadata": {},
     "output_type": "execute_result"
    }
   ],
   "source": [
    "# Lista com os dados\r\n",
    "dfs=[df1,df2,df3,df4,df5]\r\n",
    "\r\n",
    "# Chama a função years e gera um novo dataset\r\n",
    "coffee = year(dfs)\r\n",
    "coffee.head()"
   ]
  },
  {
   "cell_type": "markdown",
   "metadata": {},
   "source": [
    "## 2. Preprocessamento dos Dados"
   ]
  },
  {
   "cell_type": "code",
   "execution_count": 16,
   "metadata": {},
   "outputs": [
    {
     "data": {
      "text/html": "<div>\n<style scoped>\n    .dataframe tbody tr th:only-of-type {\n        vertical-align: middle;\n    }\n\n    .dataframe tbody tr th {\n        vertical-align: top;\n    }\n\n    .dataframe thead th {\n        text-align: right;\n    }\n</style>\n<table border=\"1\" class=\"dataframe\">\n  <thead>\n    <tr style=\"text-align: right;\">\n      <th></th>\n      <th>Country</th>\n      <th>domestic_consumption</th>\n      <th>exports</th>\n      <th>exports_crop_year</th>\n      <th>gross_opening_stocks</th>\n      <th>total_production</th>\n    </tr>\n  </thead>\n  <tbody>\n    <tr>\n      <th>21</th>\n      <td>Benin</td>\n      <td>0.0</td>\n      <td>0.0</td>\n      <td>0.0</td>\n      <td>0.0</td>\n      <td>0.0</td>\n    </tr>\n  </tbody>\n</table>\n</div>",
      "text/plain": "   Country  domestic_consumption  exports  exports_crop_year  \\\n21   Benin                   0.0      0.0                0.0   \n\n    gross_opening_stocks  total_production  \n21                   0.0               0.0  "
     },
     "execution_count": 16,
     "metadata": {},
     "output_type": "execute_result"
    }
   ],
   "source": [
    "# Exibe as linhas a coluna total_production =0\r\n",
    "coffee.loc[coffee['total_production'] == 0]"
   ]
  },
  {
   "cell_type": "code",
   "execution_count": 17,
   "metadata": {},
   "outputs": [],
   "source": [
    "# Apaga a linha com índice 21\r\n",
    "coffee = coffee.drop(21)"
   ]
  },
  {
   "cell_type": "code",
   "execution_count": 18,
   "metadata": {},
   "outputs": [],
   "source": [
    "# dividir os dados em variáveis X e y\r\n",
    "y = coffee['total_production'] # Variável alvo queremos prever (produção total) \r\n",
    "X = coffee.drop(['Country','total_production'], axis=1) # todas as colunas menos Country e total_production"
   ]
  },
  {
   "cell_type": "code",
   "execution_count": 19,
   "metadata": {},
   "outputs": [],
   "source": [
    "# Dividir os dataset em dados de treino e de teste\r\n",
    "X_train, X_test, y_train, y_test = train_test_split(X, y, test_size=0.2, \r\n",
    "                                                    shuffle=True, random_state=20)"
   ]
  },
  {
   "cell_type": "code",
   "execution_count": 20,
   "metadata": {},
   "outputs": [],
   "source": [
    "# Padroniza as variáveis X dentro de um limite entre 0 e 1 \r\n",
    "scaler = MinMaxScaler()\r\n",
    "X_train = scaler.fit_transform(X_train)\r\n",
    "X_test = scaler.transform(X_test)"
   ]
  },
  {
   "cell_type": "markdown",
   "metadata": {},
   "source": [
    "## 3. Construindo e Comparando Modelos"
   ]
  },
  {
   "cell_type": "markdown",
   "metadata": {},
   "source": [
    "Como é um caso de previsão quantitativa, temos que usar modelos estatísticos de regressão linear, a qual se refere a estimar uma função subjacente usando combinações linares de variáveis de entrada. Bons modelos de predição precisam apresentar uma boa relação entre os erros bias e variance. Bias, quando em alta, indica que o modelo se ajusta pouco aos dados, causando o que é chamado de underfitting. Variance, em alta, diz que o modelo se ajusta demais aos dados, causando por sua vez, overfitting. \r\n",
    "\r\n",
    "Vamos descrever brevemente os modelos usados:\r\n",
    "\r\n",
    "* Regressão Linear extrái um modelo subjacente que relaciona a variável de entrada (x), com a variável de saída (y). Seu objetivo é minimizar a soma dos quadrados das diferenças entre a saída real (y) e a saída pevista (y_pred) usando uma função linear. Este método é chamado Mínimos Quadrados Ordinários:  $(y-y\\_pred) = wX + b$. \r\n",
    "\r\n",
    "* Lasso (ou L1) acrescenta penalidades nos coeficientes, no caso o módulo dos coeficientes no modelo de regressão, algo do tipo $Y = wX + b + \\alpha |w|$. Essa técnicas de regularização do modelo desencoraja o ajuste excessivo dos dados, afim de diminuir a sua variância.\r\n",
    "\r\n",
    "* Já o Ridge (ou L2), a penalização consiste nos quadrados dos coeficientes, ao invés de seus módulos, de modo simples seria: $Y = wX + b + \\alpha w^2$.\r\n",
    "\r\n",
    "* Support Vector Regression (SVR) nos dá a flexibilidade de definir quanto erro é aceitável em nosso modelo e encontrarar uma linha apropriada (ou hiperplano em dimensões mais altas) para ajustar os dados. O objetivo do SVR é minimizar não o erro mas os coeficientes - mais especificamente, a norma L2. $ Min \\frac{1}{2}||w||^2$.\r\n",
    "\r\n",
    "* Decision Tree é a ferramenta mais poderosa e popular para classificação e previsão. Uma árvore de decisão é um fluxograma semelhante a uma estrutura de árvore, em que cada nó interno denota um teste em um atributo, cada ramificação representa um resultado do teste e cada nó folha (nó terminal) contém um rótulo de classe. \r\n",
    "\r\n",
    "* Random Florest é uma técnica de conjunto (ensemble) capaz de realizar tarefas de regressão e classificação com o uso de múltiplas árvores de decisão. Cada árvore de decisão tem alta variância, mas quando combinamos todas elas em paralelo, a variância resultante é baixa, pois cada árvore de decisão é perfeitamente treinada nesses dados de amostra em particular e, portanto, a saída não depende de uma árvore de decisão, mas de várias decisões árvores. \r\n",
    "\r\n"
   ]
  },
  {
   "cell_type": "code",
   "execution_count": 21,
   "metadata": {},
   "outputs": [],
   "source": [
    "# Cria um dicionário com os nomes e os modelos\r\n",
    "models = {\r\n",
    "    \"LinearRegression\":{\"model\":LinearRegression() },\r\n",
    "    \"Lasso\":{\"model\":Lasso(alpha=0.1,tol=0.01) },\r\n",
    "    \"Ridge\":{\"model\":Ridge(alpha=0.1,tol=0.01) },\r\n",
    "    \"SupportVectorRegressor\":{\"model\":SVR() },\r\n",
    "    \"DecisionTreeRegressor\":{\"model\":DecisionTreeRegressor() },\r\n",
    "    \"RandomForestRegressor\":{\"model\":RandomForestRegressor() },      \r\n",
    "}"
   ]
  },
  {
   "cell_type": "markdown",
   "metadata": {},
   "source": [
    "Para avaliar a capacidade de generalização dos modelos, usaremos a validação cruzada (cross-validation). Ela é um procedimento de reamostragem usado para avaliar modelos de aprendizado de máquina em uma amostra de dados limitada.\r\n",
    "\r\n",
    "O procedimento tem um único parâmetro chamado k que se refere ao número de grupos em que uma determinada amostra de dados deve ser dividida. Esta técnica é amplamente empregada em problemas onde o objetivo da modelagem é a predição"
   ]
  },
  {
   "cell_type": "code",
   "execution_count": 22,
   "metadata": {},
   "outputs": [],
   "source": [
    "# Usar o K-fold cross validation para cada modelo\r\n",
    "# para pegar a acurácia de validação média\r\n",
    "k = 5\r\n",
    "for name, m in models.items():\r\n",
    "    # Chama o modelo\r\n",
    "    model = m['model'] \r\n",
    "    # Efetua a validação cruzada\r\n",
    "    result = cross_validate(model, X_train,y_train, cv = k, \r\n",
    "                            scoring='neg_mean_squared_error')\r\n",
    "    \r\n",
    "    # Calcula a acurácia média (RMSE) \r\n",
    "    result['test_score'] = result['test_score']\r\n",
    "    mean_RMSE = [(-x)**0.5 for x in result['test_score']] \r\n",
    "    mean_RMSE = sum(mean_RMSE)/len(mean_RMSE)\r\n",
    "    mean_RMSE = int(mean_RMSE)\r\n",
    "\r\n",
    "    m['mean_RMSE'] = mean_RMSE\r\n",
    "     "
   ]
  },
  {
   "cell_type": "code",
   "execution_count": 23,
   "metadata": {},
   "outputs": [],
   "source": [
    "# Cria um DataFramecom os resultados\r\n",
    "models_result = []\r\n",
    "\r\n",
    "# Para cada elemento chave-valor o dicioário de modelos\r\n",
    "for name, v in models.items():\r\n",
    "    lst = [name, v['mean_RMSE']] # pega para cada elemento nome de modelo e RMSE \r\n",
    "    models_result.append(lst) # adiciona na lista\r\n",
    "\r\n",
    "# Salva a lista em um DataFrame\r\n",
    "df_results = pd.DataFrame(models_result, columns = ['model','RMSE'])\r\n",
    "# Ordena os dados pelo valor de RMSE\r\n",
    "df_results.sort_values(by='RMSE', ascending=True, inplace=True)\r\n",
    "# reinicia os indeces do DataFrame\r\n",
    "df_results.reset_index(inplace=True,drop=True)"
   ]
  },
  {
   "cell_type": "markdown",
   "metadata": {},
   "source": [
    "Após calcular os valores de RMSE de cada modelo, podemos representar esses valores em um gráfico e barras."
   ]
  },
  {
   "cell_type": "code",
   "execution_count": 24,
   "metadata": {},
   "outputs": [
    {
     "data": {
      "image/png": "[encoded data removed]",
      "text/plain": "<Figure size 1080x360 with 1 Axes>"
     },
     "metadata": {
      "needs_background": "light"
     },
     "output_type": "display_data"
    }
   ],
   "source": [
    "# Desenha um gráfico de barras\r\n",
    "plt.figure(figsize = (15,5))\r\n",
    "sns.barplot(x = 'model', y = 'RMSE', data = df_results)\r\n",
    "plt.title(f'RMSE médio usando {k}-fold para cada Model usando ', fontsize = 15)\r\n",
    "\r\n",
    "plt.xlabel('Modelo', fontsize=15)\r\n",
    "plt.ylabel('RMSE',fontsize=15)\r\n",
    "plt.xticks(rotation=45, fontsize=12)\r\n",
    "plt.show()"
   ]
  },
  {
   "cell_type": "markdown",
   "metadata": {},
   "source": [
    "Para RMSE, quanto menor o valor, melhor é o modelo.\r\n",
    "\r\n",
    "Assim, o melhor modelo foi o Lasso."
   ]
  },
  {
   "cell_type": "markdown",
   "metadata": {},
   "source": [
    "# 4. Prevendo resultados do Melhor Modelo Usando o Conjunto de Teste"
   ]
  },
  {
   "cell_type": "markdown",
   "metadata": {},
   "source": [
    "Agora que já temos o melhor modelo para o nosso projeto, vamos realizar a previsão usando o conjunto de testes"
   ]
  },
  {
   "cell_type": "code",
   "execution_count": 25,
   "metadata": {},
   "outputs": [
    {
     "name": "stdout",
     "output_type": "stream",
     "text": [
      "Best Model: Lasso\n",
      "RMSE of 1631\n",
      "Precisão: 0.9878889714488154\n"
     ]
    }
   ],
   "source": [
    "#Pega o modelo com acurácia de validação média mais alta\r\n",
    "best_model = df_results.iloc[0]\r\n",
    "\r\n",
    "# Ajusta e faz uma previsão usando o modelo\r\n",
    "model = models[best_model[0]]['model']\r\n",
    "model.fit(X_train,y_train)\r\n",
    "pred = model.predict(X_test)\r\n",
    "\r\n",
    "# Calcula a acurácia de validação RMSE\r\n",
    "RMSE = mean_squared_error(y_test,pred)**0.5\r\n",
    "RMSE = int(RMSE)\r\n",
    "Precision = r2_score(pred,y_test)\r\n",
    "\r\n",
    "# Imprime o resultado da acurácia\r\n",
    "print(f'Best Model: {best_model[0]}')\r\n",
    "print(f'RMSE of {RMSE}')\r\n",
    "print(f'Precisão: {Precision}')"
   ]
  },
  {
   "cell_type": "markdown",
   "metadata": {},
   "source": [
    "Nosso modelo possui uma precisão de 98% !"
   ]
  },
  {
   "cell_type": "markdown",
   "metadata": {},
   "source": [
    "## 5. Prevendo a Produção e Café"
   ]
  },
  {
   "cell_type": "markdown",
   "metadata": {},
   "source": [
    "Após todas essas etapas, podemos comparar os valores totais de produção de café reais (usados como y_test) e os valores previstos pelo modelo (pred)."
   ]
  },
  {
   "cell_type": "code",
   "execution_count": 26,
   "metadata": {},
   "outputs": [
    {
     "data": {
      "text/html": "<div>\n<style scoped>\n    .dataframe tbody tr th:only-of-type {\n        vertical-align: middle;\n    }\n\n    .dataframe tbody tr th {\n        vertical-align: top;\n    }\n\n    .dataframe thead th {\n        text-align: right;\n    }\n</style>\n<table border=\"1\" class=\"dataframe\">\n  <thead>\n    <tr style=\"text-align: right;\">\n      <th></th>\n      <th>Produção Real</th>\n      <th>Produção Prevista</th>\n    </tr>\n  </thead>\n  <tbody>\n    <tr>\n      <th>4</th>\n      <td>623.153000</td>\n      <td>815.599056</td>\n    </tr>\n    <tr>\n      <th>12</th>\n      <td>95.336500</td>\n      <td>83.313948</td>\n    </tr>\n    <tr>\n      <th>46</th>\n      <td>118.351467</td>\n      <td>99.035153</td>\n    </tr>\n    <tr>\n      <th>49</th>\n      <td>552.594300</td>\n      <td>1367.046991</td>\n    </tr>\n    <tr>\n      <th>48</th>\n      <td>36.521633</td>\n      <td>22.149753</td>\n    </tr>\n    <tr>\n      <th>5</th>\n      <td>10603.645367</td>\n      <td>10498.267484</td>\n    </tr>\n    <tr>\n      <th>18</th>\n      <td>208.056600</td>\n      <td>2770.036439</td>\n    </tr>\n    <tr>\n      <th>55</th>\n      <td>127.218300</td>\n      <td>105.855234</td>\n    </tr>\n    <tr>\n      <th>44</th>\n      <td>2560.954333</td>\n      <td>2393.972010</td>\n    </tr>\n    <tr>\n      <th>2</th>\n      <td>57484.308500</td>\n      <td>52836.811332</td>\n    </tr>\n    <tr>\n      <th>42</th>\n      <td>4156.859167</td>\n      <td>4781.906829</td>\n    </tr>\n  </tbody>\n</table>\n</div>",
      "text/plain": "    Produção Real  Produção Prevista\n4      623.153000         815.599056\n12      95.336500          83.313948\n46     118.351467          99.035153\n49     552.594300        1367.046991\n48      36.521633          22.149753\n5    10603.645367       10498.267484\n18     208.056600        2770.036439\n55     127.218300         105.855234\n44    2560.954333        2393.972010\n2    57484.308500       52836.811332\n42    4156.859167        4781.906829"
     },
     "execution_count": 26,
     "metadata": {},
     "output_type": "execute_result"
    }
   ],
   "source": [
    "predict = pd.DataFrame()\r\n",
    "\r\n",
    "predict['Produção Real'] = y_test\r\n",
    "predict['Produção Prevista'] = pred\r\n",
    "\r\n",
    "predict"
   ]
  },
  {
   "cell_type": "markdown",
   "metadata": {},
   "source": [
    "## Conclusão\r\n",
    "\r\n",
    "Conseguimos criar um modelo de regressão que prevê a produção total de café com uma precisão de 98%.\r\n"
   ]
  }
 ],
 "metadata": {
  "kernelspec": {
   "display_name": "Python 3.7.6 64-bit ('base': conda)",
   "name": "python376jvsc74a57bd0611cf997d5a3904788d8bf9711afacc9acf0278f5ab751438d0be3f34b870c8a"
  },
  "language_info": {
   "name": "python",
   "version": ""
  },
  "orig_nbformat": 2
 },
 "nbformat": 4,
 "nbformat_minor": 2
}