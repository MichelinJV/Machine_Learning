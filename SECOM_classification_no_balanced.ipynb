{
 "cells": [
  {
   "cell_type": "markdown",
   "metadata": {},
   "source": [
    "# Controle e Qualidade e Semicondutores (SECOM)"
   ]
  },
  {
   "cell_type": "markdown",
   "metadata": {},
   "source": [
    "## Introdução\r\n",
    "\r\n",
    "Um processo de fabricação de semicondutores modernos está normalmente sob consistante vigilância por meio do monitoramento de sinais/variáveis ​​coletados de sensores e/ou pontos de medição do processo. \r\n"
   ]
  },
  {
   "cell_type": "markdown",
   "metadata": {},
   "source": [
    "## Dataset\r\n",
    "\r\n",
    "O dataset usado é uma seleção de medidas associadas a recursos e os rótulos representam um classificação de aprovação/reprovação para cada linha de teste, onde -1 corresponde a um passe e 1 corresponde a uma falha.\r\n",
    "\r\n",
    "Link do dataset: <a href=\"https://archive.ics.uci.edu/ml/datasets/SECOM\" target=\"_blanck\"> UCI - SECOM Data Set </a>"
   ]
  },
  {
   "cell_type": "markdown",
   "metadata": {},
   "source": [
    "## Objetivo do projeto:\r\n",
    "\r\n",
    "Através dos dados sobre semicondutores, vamos tentar prever se um determinado semicondutor passará ou reprovará em um teste de controle de qualidade. "
   ]
  },
  {
   "cell_type": "markdown",
   "metadata": {},
   "source": [
    "## Importando as Bibliotecas e os Dados"
   ]
  },
  {
   "cell_type": "code",
   "execution_count": 47,
   "metadata": {},
   "outputs": [],
   "source": [
    "import numpy as np\r\n",
    "import pandas as pd\r\n",
    "import matplotlib.pyplot as plt\r\n",
    "import seaborn as sns\r\n",
    "\r\n",
    "from sklearn.model_selection import train_test_split\r\n",
    "from sklearn.preprocessing import StandardScaler\r\n",
    "from imblearn.over_sampling import RandomOverSampler, SMOTE\r\n",
    "from imblearn.under_sampling import RandomUnderSampler, NearMiss\r\n",
    "from sklearn.linear_model import LogisticRegression\r\n",
    "from xgboost import XGBClassifier\r\n",
    "\r\n",
    "from sklearn.metrics import confusion_matrix, classification_report\r\n",
    "\r\n",
    "import warnings\r\n",
    "warnings.filterwarnings(action='ignore')"
   ]
  },
  {
   "cell_type": "code",
   "execution_count": 2,
   "metadata": {},
   "outputs": [
    {
     "data": {
      "text/html": "<div>\n<style scoped>\n    .dataframe tbody tr th:only-of-type {\n        vertical-align: middle;\n    }\n\n    .dataframe tbody tr th {\n        vertical-align: top;\n    }\n\n    .dataframe thead th {\n        text-align: right;\n    }\n</style>\n<table border=\"1\" class=\"dataframe\">\n  <thead>\n    <tr style=\"text-align: right;\">\n      <th></th>\n      <th>Time</th>\n      <th>0</th>\n      <th>1</th>\n      <th>2</th>\n      <th>3</th>\n      <th>4</th>\n      <th>5</th>\n      <th>6</th>\n      <th>7</th>\n      <th>8</th>\n      <th>...</th>\n      <th>581</th>\n      <th>582</th>\n      <th>583</th>\n      <th>584</th>\n      <th>585</th>\n      <th>586</th>\n      <th>587</th>\n      <th>588</th>\n      <th>589</th>\n      <th>Pass/Fail</th>\n    </tr>\n  </thead>\n  <tbody>\n    <tr>\n      <th>0</th>\n      <td>2008-07-19 11:55:00</td>\n      <td>3030.93</td>\n      <td>2564.00</td>\n      <td>2187.7333</td>\n      <td>1411.1265</td>\n      <td>1.3602</td>\n      <td>100.0</td>\n      <td>97.6133</td>\n      <td>0.1242</td>\n      <td>1.5005</td>\n      <td>...</td>\n      <td>NaN</td>\n      <td>0.5005</td>\n      <td>0.0118</td>\n      <td>0.0035</td>\n      <td>2.3630</td>\n      <td>NaN</td>\n      <td>NaN</td>\n      <td>NaN</td>\n      <td>NaN</td>\n      <td>-1</td>\n    </tr>\n    <tr>\n      <th>1</th>\n      <td>2008-07-19 12:32:00</td>\n      <td>3095.78</td>\n      <td>2465.14</td>\n      <td>2230.4222</td>\n      <td>1463.6606</td>\n      <td>0.8294</td>\n      <td>100.0</td>\n      <td>102.3433</td>\n      <td>0.1247</td>\n      <td>1.4966</td>\n      <td>...</td>\n      <td>208.2045</td>\n      <td>0.5019</td>\n      <td>0.0223</td>\n      <td>0.0055</td>\n      <td>4.4447</td>\n      <td>0.0096</td>\n      <td>0.0201</td>\n      <td>0.0060</td>\n      <td>208.2045</td>\n      <td>-1</td>\n    </tr>\n    <tr>\n      <th>2</th>\n      <td>2008-07-19 13:17:00</td>\n      <td>2932.61</td>\n      <td>2559.94</td>\n      <td>2186.4111</td>\n      <td>1698.0172</td>\n      <td>1.5102</td>\n      <td>100.0</td>\n      <td>95.4878</td>\n      <td>0.1241</td>\n      <td>1.4436</td>\n      <td>...</td>\n      <td>82.8602</td>\n      <td>0.4958</td>\n      <td>0.0157</td>\n      <td>0.0039</td>\n      <td>3.1745</td>\n      <td>0.0584</td>\n      <td>0.0484</td>\n      <td>0.0148</td>\n      <td>82.8602</td>\n      <td>1</td>\n    </tr>\n    <tr>\n      <th>3</th>\n      <td>2008-07-19 14:43:00</td>\n      <td>2988.72</td>\n      <td>2479.90</td>\n      <td>2199.0333</td>\n      <td>909.7926</td>\n      <td>1.3204</td>\n      <td>100.0</td>\n      <td>104.2367</td>\n      <td>0.1217</td>\n      <td>1.4882</td>\n      <td>...</td>\n      <td>73.8432</td>\n      <td>0.4990</td>\n      <td>0.0103</td>\n      <td>0.0025</td>\n      <td>2.0544</td>\n      <td>0.0202</td>\n      <td>0.0149</td>\n      <td>0.0044</td>\n      <td>73.8432</td>\n      <td>-1</td>\n    </tr>\n    <tr>\n      <th>4</th>\n      <td>2008-07-19 15:22:00</td>\n      <td>3032.24</td>\n      <td>2502.87</td>\n      <td>2233.3667</td>\n      <td>1326.5200</td>\n      <td>1.5334</td>\n      <td>100.0</td>\n      <td>100.3967</td>\n      <td>0.1235</td>\n      <td>1.5031</td>\n      <td>...</td>\n      <td>NaN</td>\n      <td>0.4800</td>\n      <td>0.4766</td>\n      <td>0.1045</td>\n      <td>99.3032</td>\n      <td>0.0202</td>\n      <td>0.0149</td>\n      <td>0.0044</td>\n      <td>73.8432</td>\n      <td>-1</td>\n    </tr>\n  </tbody>\n</table>\n<p>5 rows × 592 columns</p>\n</div>",
      "text/plain": "                  Time        0        1          2          3       4      5  \\\n0  2008-07-19 11:55:00  3030.93  2564.00  2187.7333  1411.1265  1.3602  100.0   \n1  2008-07-19 12:32:00  3095.78  2465.14  2230.4222  1463.6606  0.8294  100.0   \n2  2008-07-19 13:17:00  2932.61  2559.94  2186.4111  1698.0172  1.5102  100.0   \n3  2008-07-19 14:43:00  2988.72  2479.90  2199.0333   909.7926  1.3204  100.0   \n4  2008-07-19 15:22:00  3032.24  2502.87  2233.3667  1326.5200  1.5334  100.0   \n\n          6       7       8  ...       581     582     583     584      585  \\\n0   97.6133  0.1242  1.5005  ...       NaN  0.5005  0.0118  0.0035   2.3630   \n1  102.3433  0.1247  1.4966  ...  208.2045  0.5019  0.0223  0.0055   4.4447   \n2   95.4878  0.1241  1.4436  ...   82.8602  0.4958  0.0157  0.0039   3.1745   \n3  104.2367  0.1217  1.4882  ...   73.8432  0.4990  0.0103  0.0025   2.0544   \n4  100.3967  0.1235  1.5031  ...       NaN  0.4800  0.4766  0.1045  99.3032   \n\n      586     587     588       589  Pass/Fail  \n0     NaN     NaN     NaN       NaN         -1  \n1  0.0096  0.0201  0.0060  208.2045         -1  \n2  0.0584  0.0484  0.0148   82.8602          1  \n3  0.0202  0.0149  0.0044   73.8432         -1  \n4  0.0202  0.0149  0.0044   73.8432         -1  \n\n[5 rows x 592 columns]"
     },
     "execution_count": 2,
     "metadata": {},
     "output_type": "execute_result"
    }
   ],
   "source": [
    "data = pd.read_csv('uci-secom.csv')\r\n",
    "data.head()"
   ]
  },
  {
   "cell_type": "markdown",
   "metadata": {},
   "source": [
    "## Preprocessamento"
   ]
  },
  {
   "cell_type": "markdown",
   "metadata": {},
   "source": [
    "Vamos processar o dataset, limpando os dados nulos, separando as variáveis, e normalizando os valores."
   ]
  },
  {
   "cell_type": "code",
   "execution_count": 65,
   "metadata": {},
   "outputs": [],
   "source": [
    "def preprocess_inputs(df):\r\n",
    "    df = df.copy()\r\n",
    "    \r\n",
    "    # Apaga coluna Time\r\n",
    "    df = df.drop('Time', axis=1)\r\n",
    "    \r\n",
    "    # Apaga as colunas com mais de 25% de dados nulos\r\n",
    "    missing_value_columns = df.columns[df.isna().mean() >= 0.25]\r\n",
    "    df = df.drop(missing_value_columns, axis=1)\r\n",
    "    \r\n",
    "    # Preenche os valores faltantes com zero\r\n",
    "    for column in df.columns:\r\n",
    "        df[column] = df[column].fillna(0)\r\n",
    "    \r\n",
    "    \r\n",
    "    # Cria rótulos textuais \r\n",
    "    df['Pass/Fail'] = df['Pass/Fail'].replace({-1: \"Aprovado\", 1: \"Reprovado\"})\r\n",
    "    \r\n",
    "    # Divide o dataset em X e y\r\n",
    "    y = df['Pass/Fail']\r\n",
    "    X = df.drop('Pass/Fail', axis=1)\r\n",
    "    \r\n",
    "    # Divide em conjunto de treino e de teste\r\n",
    "    X_train, X_test, y_train, y_test = train_test_split(X, y, train_size=0.7, shuffle=True, random_state=1)\r\n",
    "    \r\n",
    "    # Normaliza os valores de X\r\n",
    "    scaler = StandardScaler()\r\n",
    "    scaler.fit(X_train)\r\n",
    "    X_train = pd.DataFrame(scaler.transform(X_train), index=X_train.index, columns=X_train.columns)\r\n",
    "    X_test = pd.DataFrame(scaler.transform(X_test), index=X_test.index, columns=X_test.columns)\r\n",
    "\r\n",
    "    return X_train, X_test, y_train, y_test"
   ]
  },
  {
   "cell_type": "code",
   "execution_count": 66,
   "metadata": {},
   "outputs": [],
   "source": [
    "X_train, X_test, y_train, y_test = preprocess_inputs(data)"
   ]
  },
  {
   "cell_type": "markdown",
   "metadata": {},
   "source": [
    "Vamos definir uma função capaz de calcular as métricas para avaliar os modelos."
   ]
  },
  {
   "cell_type": "code",
   "execution_count": 68,
   "metadata": {},
   "outputs": [],
   "source": [
    "def evaluate_model(model, X_test, y_test):\r\n",
    "    \r\n",
    "    # Calcula acurácia\r\n",
    "    acc = model.score(X_test, y_test)\r\n",
    "    print(\"Accuracy: {:.2f}%\".format(acc * 100))\r\n",
    "    \r\n",
    "    # Faz a previsão dos dados\r\n",
    "    y_pred = model.predict(X_test)\r\n",
    "    \r\n",
    "    # Calcula a matriz de confusão\r\n",
    "    cm = confusion_matrix(y_test, y_pred, labels=['Aprovado', 'Reprovado'])\r\n",
    "    \r\n",
    "    # Calcula as métricas precision, recall e f1-score\r\n",
    "    clr = classification_report(y_test, y_pred, labels=['Aprovado', 'Reprovado'])\r\n",
    "    \r\n",
    "    # Desenha a matriz de confusão usando um mapa de calor\r\n",
    "    plt.figure(figsize=(6, 6))\r\n",
    "    sns.heatmap(cm, annot=True, fmt='g', vmin=0, cmap='Blues', cbar=False)\r\n",
    "    plt.xticks(ticks=[0.5, 1.5], labels=['Aprovado', 'Reprovado'])\r\n",
    "    plt.yticks(ticks=[0.5, 1.5], labels=['Aprovado', 'Reprovado'])\r\n",
    "    plt.xlabel(\"Previsto\")\r\n",
    "    plt.ylabel(\"Real\")\r\n",
    "    plt.title(\"Matrix de Confusão\")\r\n",
    "    plt.show()\r\n",
    "    \r\n",
    "    print(\"Relatório de Classificação:\\n----------------------\\n\", clr)"
   ]
  },
  {
   "cell_type": "markdown",
   "metadata": {},
   "source": [
    "## Examinando as Classes Desequilibradas\r\n",
    "\r\n",
    "Neste dataset, o número de pontos de dados em uma classe (aprovado/reprovado) é muito maior do que o número de pontos de dados em outras classes. Quando isso acontece, o classificador tende a ser tendencioso. As classificações não refletirá a verdadeira natureza dos dados apenas porque há uma grande diferença no número de pontos de dados entre as duas classes. Portanto, torna-se importante dar conta dessa discrepância e neutralizá-la para que nosso classificador permaneça imparcial. "
   ]
  },
  {
   "cell_type": "code",
   "execution_count": 81,
   "metadata": {},
   "outputs": [
    {
     "data": {
      "text/plain": "Aprovado     1024\nReprovado      72\nName: Pass/Fail, dtype: int64"
     },
     "execution_count": 81,
     "metadata": {},
     "output_type": "execute_result"
    }
   ],
   "source": [
    "# Visualizar o número de dados para cada classe (desiquilibrada)\r\n",
    "y_train.value_counts()"
   ]
  },
  {
   "cell_type": "markdown",
   "metadata": {},
   "source": [
    "### Treinando o Modelo (Desequilibrado)\r\n",
    "\r\n",
    "O modelo escolhido foi o LogistcRegression, por ser um algoritmo que responde muito bem a classificações binárias. Vamos começar treinando o modelo com os ddos ainda desequilibrados."
   ]
  },
  {
   "cell_type": "code",
   "execution_count": 69,
   "metadata": {},
   "outputs": [
    {
     "name": "stdout",
     "output_type": "stream",
     "text": [
      "Accuracy: 89.17%\n"
     ]
    },
    {
     "data": {
      "image/png": "[encoded data removed]",
      "text/plain": "<Figure size 432x432 with 1 Axes>"
     },
     "metadata": {
      "needs_background": "light"
     },
     "output_type": "display_data"
    },
    {
     "name": "stdout",
     "output_type": "stream",
     "text": [
      "Relatório de Classificação:\n",
      "----------------------\n",
      "               precision    recall  f1-score   support\n",
      "\n",
      "    Aprovado       0.94      0.94      0.94       439\n",
      "   Reprovado       0.19      0.19      0.19        32\n",
      "\n",
      "    accuracy                           0.89       471\n",
      "   macro avg       0.57      0.57      0.57       471\n",
      "weighted avg       0.89      0.89      0.89       471\n",
      "\n"
     ]
    }
   ],
   "source": [
    "model = LogisticRegression()\r\n",
    "model.fit(X_train, y_train)\r\n",
    "\r\n",
    "evaluate_model(model,X_test, y_test)"
   ]
  },
  {
   "cell_type": "markdown",
   "metadata": {},
   "source": [
    "O classificador foi incapaz de separar as duas classes, resultando em 0.19% de precisão para a classe 'Reprovado'."
   ]
  },
  {
   "cell_type": "markdown",
   "metadata": {},
   "source": [
    "### Usando Random Oversampling"
   ]
  },
  {
   "cell_type": "markdown",
   "metadata": {},
   "source": [
    "A biblioteca *imblearn* gera novas amostras das classes\r\n",
    "minoritárias. A função *RandomOverSampling* seleciona amostras aleatórias e as adiciona na classe minoritária. "
   ]
  },
  {
   "cell_type": "code",
   "execution_count": 71,
   "metadata": {},
   "outputs": [],
   "source": [
    "oversampler = RandomOverSampler(random_state=1)\r\n",
    "X_train_os, y_train_os = oversampler.fit_resample(X_train, y_train)"
   ]
  },
  {
   "cell_type": "code",
   "execution_count": 86,
   "metadata": {},
   "outputs": [
    {
     "name": "stdout",
     "output_type": "stream",
     "text": [
      "Nova amostragem de classes usando RandomOverSampling\n"
     ]
    },
    {
     "data": {
      "text/plain": "Aprovado     1024\nReprovado    1024\nName: Pass/Fail, dtype: int64"
     },
     "execution_count": 86,
     "metadata": {},
     "output_type": "execute_result"
    }
   ],
   "source": [
    "# Exibe as classes equilibradas\r\n",
    "print(\"Nova amostragem de classes usando RandomOverSampling\")\r\n",
    "y_train_os.value_counts()"
   ]
  },
  {
   "cell_type": "code",
   "execution_count": 73,
   "metadata": {},
   "outputs": [
    {
     "name": "stdout",
     "output_type": "stream",
     "text": [
      "Accuracy: 85.77%\n"
     ]
    },
    {
     "data": {
      "image/png": "[encoded data removed]",
      "text/plain": "<Figure size 432x432 with 1 Axes>"
     },
     "metadata": {
      "needs_background": "light"
     },
     "output_type": "display_data"
    },
    {
     "name": "stdout",
     "output_type": "stream",
     "text": [
      "Relatório de Classificação:\n",
      "----------------------\n",
      "               precision    recall  f1-score   support\n",
      "\n",
      "    Aprovado       0.94      0.90      0.92       439\n",
      "   Reprovado       0.17      0.28      0.21        32\n",
      "\n",
      "    accuracy                           0.86       471\n",
      "   macro avg       0.56      0.59      0.57       471\n",
      "weighted avg       0.89      0.86      0.87       471\n",
      "\n"
     ]
    }
   ],
   "source": [
    "modelos = LogisticRegression()\r\n",
    "modelos.fit(X_train_os, y_train_os)\r\n",
    "\r\n",
    "evaluate_model(modelos, X_test, y_test)"
   ]
  },
  {
   "cell_type": "markdown",
   "metadata": {},
   "source": [
    "### Usando Oversampling com SMOTE"
   ]
  },
  {
   "cell_type": "markdown",
   "metadata": {},
   "source": [
    "O SMOTE funciona selecionando um de seus k vizinhos mais próximos, conectando uma linha a um deles e selecionando um ponto nessa linha, gerando novas amostras para a classe minoritária."
   ]
  },
  {
   "cell_type": "code",
   "execution_count": 74,
   "metadata": {},
   "outputs": [],
   "source": [
    "oversampler = SMOTE(random_state=1)\r\n",
    "X_train_smote, y_train_smote = oversampler.fit_resample(X_train, y_train)"
   ]
  },
  {
   "cell_type": "code",
   "execution_count": 85,
   "metadata": {},
   "outputs": [
    {
     "name": "stdout",
     "output_type": "stream",
     "text": [
      "Nova amostragem de classes usando SMOTE\n"
     ]
    },
    {
     "data": {
      "text/plain": "Aprovado     1024\nReprovado    1024\nName: Pass/Fail, dtype: int64"
     },
     "execution_count": 85,
     "metadata": {},
     "output_type": "execute_result"
    }
   ],
   "source": [
    "# Exibe as classes equilibradas\r\n",
    "print(\"Nova amostragem de classes usando SMOTE\")\r\n",
    "y_train_smote.value_counts()\r\n"
   ]
  },
  {
   "cell_type": "code",
   "execution_count": 76,
   "metadata": {},
   "outputs": [
    {
     "name": "stdout",
     "output_type": "stream",
     "text": [
      "Accuracy: 85.99%\n"
     ]
    },
    {
     "data": {
      "image/png": "[encoded data removed]",
      "text/plain": "<Figure size 432x432 with 1 Axes>"
     },
     "metadata": {
      "needs_background": "light"
     },
     "output_type": "display_data"
    },
    {
     "name": "stdout",
     "output_type": "stream",
     "text": [
      "Relatório de Classificação:\n",
      "----------------------\n",
      "               precision    recall  f1-score   support\n",
      "\n",
      "    Aprovado       0.95      0.90      0.92       439\n",
      "   Reprovado       0.17      0.28      0.21        32\n",
      "\n",
      "    accuracy                           0.86       471\n",
      "   macro avg       0.56      0.59      0.57       471\n",
      "weighted avg       0.89      0.86      0.87       471\n",
      "\n"
     ]
    }
   ],
   "source": [
    "modelsm = LogisticRegression()\r\n",
    "modelsm.fit(X_train_smote, y_train_smote)\r\n",
    "\r\n",
    "evaluate_model(modelsm, X_test, y_test)"
   ]
  },
  {
   "cell_type": "markdown",
   "metadata": {},
   "source": [
    "## Usando RandomUnderSampling"
   ]
  },
  {
   "cell_type": "markdown",
   "metadata": {},
   "source": [
    "Outro método para equilibrar classes é baixar aleatoriamente as amostras das classes majoritárias. Para isso usamos a função *RandomUnderSampling*."
   ]
  },
  {
   "cell_type": "code",
   "execution_count": 77,
   "metadata": {},
   "outputs": [],
   "source": [
    "undersampler = RandomUnderSampler(random_state=1)\r\n",
    "X_train_us, y_train_us = undersampler.fit_resample(X_train, y_train)"
   ]
  },
  {
   "cell_type": "code",
   "execution_count": 87,
   "metadata": {},
   "outputs": [
    {
     "name": "stdout",
     "output_type": "stream",
     "text": [
      "Nova amostragem de classes usando RandomUnderSampling\n"
     ]
    },
    {
     "data": {
      "text/plain": "Reprovado    72\nAprovado     72\nName: Pass/Fail, dtype: int64"
     },
     "execution_count": 87,
     "metadata": {},
     "output_type": "execute_result"
    }
   ],
   "source": [
    "# Exibe as classes equilibradas\r\n",
    "print(\"Nova amostragem de classes usando RandomUnderSampling\")\r\n",
    "y_train_us.value_counts()"
   ]
  },
  {
   "cell_type": "code",
   "execution_count": 78,
   "metadata": {},
   "outputs": [
    {
     "name": "stdout",
     "output_type": "stream",
     "text": [
      "Accuracy: 85.77%\n"
     ]
    },
    {
     "data": {
      "image/png": "[encoded data removed]",
      "text/plain": "<Figure size 432x432 with 1 Axes>"
     },
     "metadata": {
      "needs_background": "light"
     },
     "output_type": "display_data"
    },
    {
     "name": "stdout",
     "output_type": "stream",
     "text": [
      "Relatório de Classificação:\n",
      "----------------------\n",
      "               precision    recall  f1-score   support\n",
      "\n",
      "    Aprovado       0.94      0.90      0.92       439\n",
      "   Reprovado       0.17      0.28      0.21        32\n",
      "\n",
      "    accuracy                           0.86       471\n",
      "   macro avg       0.56      0.59      0.57       471\n",
      "weighted avg       0.89      0.86      0.87       471\n",
      "\n"
     ]
    }
   ],
   "source": [
    "modelus = LogisticRegression()\r\n",
    "modelus.fit(X_train_os, y_train_os)\r\n",
    "\r\n",
    "evaluate_model(modelus, X_test, y_test)"
   ]
  },
  {
   "cell_type": "markdown",
   "metadata": {},
   "source": [
    "### Usando NearMiss"
   ]
  },
  {
   "cell_type": "markdown",
   "metadata": {},
   "source": [
    "A função *NearMiss* abaixa a classe maior removendo amostras que estão próximas umas das outras."
   ]
  },
  {
   "cell_type": "code",
   "execution_count": 79,
   "metadata": {},
   "outputs": [],
   "source": [
    "undermiss = NearMiss()\r\n",
    "X_train_nm, y_train_nm = undermiss.fit_resample(X_train, y_train)"
   ]
  },
  {
   "cell_type": "code",
   "execution_count": 53,
   "metadata": {},
   "outputs": [
    {
     "data": {
      "text/plain": "PASS    72\nFAIL    72\nName: Pass/Fail, dtype: int64"
     },
     "execution_count": 53,
     "metadata": {},
     "output_type": "execute_result"
    }
   ],
   "source": [
    "# Exibe as classes equilibradas\r\n",
    "print(\"Nova amostragem de classes usando NearMiss\")\r\n",
    "y_train_nm.value_counts()"
   ]
  },
  {
   "cell_type": "code",
   "execution_count": 80,
   "metadata": {},
   "outputs": [
    {
     "name": "stdout",
     "output_type": "stream",
     "text": [
      "Accuracy: 54.78%\n"
     ]
    },
    {
     "data": {
      "image/png": "[encoded data removed]",
      "text/plain": "<Figure size 432x432 with 1 Axes>"
     },
     "metadata": {
      "needs_background": "light"
     },
     "output_type": "display_data"
    },
    {
     "name": "stdout",
     "output_type": "stream",
     "text": [
      "Relatório de Classificação:\n",
      "----------------------\n",
      "               precision    recall  f1-score   support\n",
      "\n",
      "    Aprovado       0.96      0.54      0.69       439\n",
      "   Reprovado       0.10      0.72      0.18        32\n",
      "\n",
      "    accuracy                           0.55       471\n",
      "   macro avg       0.53      0.63      0.43       471\n",
      "weighted avg       0.90      0.55      0.65       471\n",
      "\n"
     ]
    }
   ],
   "source": [
    "modelnm = LogisticRegression()\r\n",
    "modelnm.fit(X_train_nm, y_train_nm)\r\n",
    "\r\n",
    "evaluate_model(modelnm, X_test, y_test)"
   ]
  },
  {
   "cell_type": "markdown",
   "metadata": {},
   "source": [
    "## Conclusão"
   ]
  },
  {
   "cell_type": "markdown",
   "metadata": {},
   "source": [
    "Usando o modelo LogisticRegression, criamos vários classificadores para realizar o tste de qualidade de semicondutors.\r\n",
    "\r\n",
    "Como a quantidade de classes aprovado/reprovado no dataset estava desequilibrada (muito mais de uma do que da outra), usamos algoritmos para tanto aumentar o número de amostras da classe minoritária quanto para baixar o númeo de amostras da classe maoritária."
   ]
  },
  {
   "cell_type": "code",
   "execution_count": null,
   "metadata": {},
   "outputs": [],
   "source": []
  }
 ],
 "metadata": {
  "kernelspec": {
   "display_name": "Python 3.7.6 64-bit ('base': conda)",
   "name": "python376jvsc74a57bd0611cf997d5a3904788d8bf9711afacc9acf0278f5ab751438d0be3f34b870c8a"
  },
  "language_info": {
   "codemirror_mode": {
    "name": "ipython",
    "version": 3
   },
   "file_extension": ".py",
   "mimetype": "text/x-python",
   "name": "python",
   "nbconvert_exporter": "python",
   "pygments_lexer": "ipython3",
   "version": "3.7.6"
  },
  "orig_nbformat": 2
 },
 "nbformat": 4,
 "nbformat_minor": 2
}