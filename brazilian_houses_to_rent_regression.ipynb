{
 "cells": [
  {
   "cell_type": "code",
   "execution_count": 1,
   "metadata": {},
   "outputs": [],
   "source": [
    "import pandas as pd\r\n",
    "import numpy as np\r\n",
    "import matplotlib.pyplot as plt\r\n",
    "\r\n",
    "from sklearn.model_selection import train_test_split\r\n",
    "from sklearn.metrics import mean_squared_error, explained_variance_score\r\n",
    "from sklearn.preprocessing import MinMaxScaler\r\n",
    "\r\n",
    "from sklearn.linear_model import LinearRegression\r\n",
    "from sklearn.tree import DecisionTreeRegressor\r\n",
    "from sklearn.ensemble import AdaBoostRegressor\r\n",
    "\r\n",
    "\r\n"
   ]
  },
  {
   "cell_type": "code",
   "execution_count": 2,
   "metadata": {},
   "outputs": [
    {
     "data": {
      "text/html": "<div>\n<style scoped>\n    .dataframe tbody tr th:only-of-type {\n        vertical-align: middle;\n    }\n\n    .dataframe tbody tr th {\n        vertical-align: top;\n    }\n\n    .dataframe thead th {\n        text-align: right;\n    }\n</style>\n<table border=\"1\" class=\"dataframe\">\n  <thead>\n    <tr style=\"text-align: right;\">\n      <th></th>\n      <th>Unnamed: 0</th>\n      <th>city</th>\n      <th>area</th>\n      <th>rooms</th>\n      <th>bathroom</th>\n      <th>parking spaces</th>\n      <th>floor</th>\n      <th>animal</th>\n      <th>furniture</th>\n      <th>hoa</th>\n      <th>rent amount</th>\n      <th>property tax</th>\n      <th>fire insurance</th>\n      <th>total</th>\n    </tr>\n  </thead>\n  <tbody>\n    <tr>\n      <th>0</th>\n      <td>0</td>\n      <td>1</td>\n      <td>240</td>\n      <td>3</td>\n      <td>3</td>\n      <td>4</td>\n      <td>-</td>\n      <td>acept</td>\n      <td>furnished</td>\n      <td>R$0</td>\n      <td>R$8,000</td>\n      <td>R$1,000</td>\n      <td>R$121</td>\n      <td>R$9,121</td>\n    </tr>\n    <tr>\n      <th>1</th>\n      <td>1</td>\n      <td>0</td>\n      <td>64</td>\n      <td>2</td>\n      <td>1</td>\n      <td>1</td>\n      <td>10</td>\n      <td>acept</td>\n      <td>not furnished</td>\n      <td>R$540</td>\n      <td>R$820</td>\n      <td>R$122</td>\n      <td>R$11</td>\n      <td>R$1,493</td>\n    </tr>\n    <tr>\n      <th>2</th>\n      <td>2</td>\n      <td>1</td>\n      <td>443</td>\n      <td>5</td>\n      <td>5</td>\n      <td>4</td>\n      <td>3</td>\n      <td>acept</td>\n      <td>furnished</td>\n      <td>R$4,172</td>\n      <td>R$7,000</td>\n      <td>R$1,417</td>\n      <td>R$89</td>\n      <td>R$12,680</td>\n    </tr>\n    <tr>\n      <th>3</th>\n      <td>3</td>\n      <td>1</td>\n      <td>73</td>\n      <td>2</td>\n      <td>2</td>\n      <td>1</td>\n      <td>12</td>\n      <td>acept</td>\n      <td>not furnished</td>\n      <td>R$700</td>\n      <td>R$1,250</td>\n      <td>R$150</td>\n      <td>R$16</td>\n      <td>R$2,116</td>\n    </tr>\n    <tr>\n      <th>4</th>\n      <td>4</td>\n      <td>1</td>\n      <td>19</td>\n      <td>1</td>\n      <td>1</td>\n      <td>0</td>\n      <td>-</td>\n      <td>not acept</td>\n      <td>not furnished</td>\n      <td>R$0</td>\n      <td>R$1,200</td>\n      <td>R$41</td>\n      <td>R$16</td>\n      <td>R$1,257</td>\n    </tr>\n  </tbody>\n</table>\n</div>",
      "text/plain": "   Unnamed: 0  city  area  rooms  bathroom  parking spaces floor     animal  \\\n0           0     1   240      3         3               4     -      acept   \n1           1     0    64      2         1               1    10      acept   \n2           2     1   443      5         5               4     3      acept   \n3           3     1    73      2         2               1    12      acept   \n4           4     1    19      1         1               0     -  not acept   \n\n       furniture      hoa rent amount property tax fire insurance     total  \n0      furnished      R$0     R$8,000      R$1,000          R$121   R$9,121  \n1  not furnished    R$540       R$820        R$122           R$11   R$1,493  \n2      furnished  R$4,172     R$7,000      R$1,417           R$89  R$12,680  \n3  not furnished    R$700     R$1,250        R$150           R$16   R$2,116  \n4  not furnished      R$0     R$1,200         R$41           R$16   R$1,257  "
     },
     "execution_count": 2,
     "metadata": {},
     "output_type": "execute_result"
    }
   ],
   "source": [
    "df = pd.read_csv(\"houses_to_rent.csv\")\r\n",
    "df.head()"
   ]
  },
  {
   "cell_type": "code",
   "execution_count": 3,
   "metadata": {},
   "outputs": [
    {
     "name": "stdout",
     "output_type": "stream",
     "text": [
      "Rows:6080\n",
      "Colunms:14\n"
     ]
    }
   ],
   "source": [
    "print(f\"Rows:{df.shape[0]}\")\r\n",
    "print(f\"Colunms:{df.shape[1]}\")"
   ]
  },
  {
   "cell_type": "code",
   "execution_count": 4,
   "metadata": {},
   "outputs": [],
   "source": [
    "df = df.drop(df.columns[0],axis=1)"
   ]
  },
  {
   "cell_type": "code",
   "execution_count": 5,
   "metadata": {},
   "outputs": [],
   "source": [
    "def missing_data(data):\r\n",
    "    missing_data = df.isnull().sum() #total de null    \r\n",
    "    total = missing_data.sort_values(ascending=True) #ordenação \r\n",
    "    percent = (missing_data / len(df.index)*100).round(2).sort_values(ascending=True) #cálculo percentual\r\n",
    "    missing_table = pd.concat([total, percent], axis=1, keys=['Qty NaN', '% NaN'])\r\n",
    "    return missing_table"
   ]
  },
  {
   "cell_type": "code",
   "execution_count": 6,
   "metadata": {},
   "outputs": [
    {
     "data": {
      "text/html": "<div>\n<style scoped>\n    .dataframe tbody tr th:only-of-type {\n        vertical-align: middle;\n    }\n\n    .dataframe tbody tr th {\n        vertical-align: top;\n    }\n\n    .dataframe thead th {\n        text-align: right;\n    }\n</style>\n<table border=\"1\" class=\"dataframe\">\n  <thead>\n    <tr style=\"text-align: right;\">\n      <th></th>\n      <th>Qty NaN</th>\n      <th>% NaN</th>\n    </tr>\n  </thead>\n  <tbody>\n    <tr>\n      <th>city</th>\n      <td>0</td>\n      <td>0.0</td>\n    </tr>\n    <tr>\n      <th>area</th>\n      <td>0</td>\n      <td>0.0</td>\n    </tr>\n    <tr>\n      <th>rooms</th>\n      <td>0</td>\n      <td>0.0</td>\n    </tr>\n    <tr>\n      <th>bathroom</th>\n      <td>0</td>\n      <td>0.0</td>\n    </tr>\n    <tr>\n      <th>parking spaces</th>\n      <td>0</td>\n      <td>0.0</td>\n    </tr>\n    <tr>\n      <th>floor</th>\n      <td>0</td>\n      <td>0.0</td>\n    </tr>\n    <tr>\n      <th>animal</th>\n      <td>0</td>\n      <td>0.0</td>\n    </tr>\n    <tr>\n      <th>furniture</th>\n      <td>0</td>\n      <td>0.0</td>\n    </tr>\n    <tr>\n      <th>hoa</th>\n      <td>0</td>\n      <td>0.0</td>\n    </tr>\n    <tr>\n      <th>rent amount</th>\n      <td>0</td>\n      <td>0.0</td>\n    </tr>\n    <tr>\n      <th>property tax</th>\n      <td>0</td>\n      <td>0.0</td>\n    </tr>\n    <tr>\n      <th>fire insurance</th>\n      <td>0</td>\n      <td>0.0</td>\n    </tr>\n    <tr>\n      <th>total</th>\n      <td>0</td>\n      <td>0.0</td>\n    </tr>\n  </tbody>\n</table>\n</div>",
      "text/plain": "                Qty NaN  % NaN\ncity                  0    0.0\narea                  0    0.0\nrooms                 0    0.0\nbathroom              0    0.0\nparking spaces        0    0.0\nfloor                 0    0.0\nanimal                0    0.0\nfurniture             0    0.0\nhoa                   0    0.0\nrent amount           0    0.0\nproperty tax          0    0.0\nfire insurance        0    0.0\ntotal                 0    0.0"
     },
     "execution_count": 6,
     "metadata": {},
     "output_type": "execute_result"
    }
   ],
   "source": [
    "missing_data(df)"
   ]
  },
  {
   "cell_type": "code",
   "execution_count": 7,
   "metadata": {},
   "outputs": [
    {
     "data": {
      "text/html": "<div>\n<style scoped>\n    .dataframe tbody tr th:only-of-type {\n        vertical-align: middle;\n    }\n\n    .dataframe tbody tr th {\n        vertical-align: top;\n    }\n\n    .dataframe thead th {\n        text-align: right;\n    }\n</style>\n<table border=\"1\" class=\"dataframe\">\n  <thead>\n    <tr style=\"text-align: right;\">\n      <th></th>\n      <th>city</th>\n      <th>area</th>\n      <th>rooms</th>\n      <th>bathroom</th>\n      <th>parking spaces</th>\n      <th>floor</th>\n      <th>animal</th>\n      <th>furniture</th>\n      <th>hoa</th>\n      <th>rent amount</th>\n      <th>property tax</th>\n      <th>fire insurance</th>\n      <th>total</th>\n    </tr>\n  </thead>\n  <tbody>\n    <tr>\n      <th>0</th>\n      <td>1</td>\n      <td>240</td>\n      <td>3</td>\n      <td>3</td>\n      <td>4</td>\n      <td>-</td>\n      <td>acept</td>\n      <td>furnished</td>\n      <td>R$0</td>\n      <td>R$8,000</td>\n      <td>R$1,000</td>\n      <td>R$121</td>\n      <td>R$9,121</td>\n    </tr>\n    <tr>\n      <th>2</th>\n      <td>1</td>\n      <td>443</td>\n      <td>5</td>\n      <td>5</td>\n      <td>4</td>\n      <td>3</td>\n      <td>acept</td>\n      <td>furnished</td>\n      <td>R$4,172</td>\n      <td>R$7,000</td>\n      <td>R$1,417</td>\n      <td>R$89</td>\n      <td>R$12,680</td>\n    </tr>\n    <tr>\n      <th>3</th>\n      <td>1</td>\n      <td>73</td>\n      <td>2</td>\n      <td>2</td>\n      <td>1</td>\n      <td>12</td>\n      <td>acept</td>\n      <td>not furnished</td>\n      <td>R$700</td>\n      <td>R$1,250</td>\n      <td>R$150</td>\n      <td>R$16</td>\n      <td>R$2,116</td>\n    </tr>\n    <tr>\n      <th>4</th>\n      <td>1</td>\n      <td>19</td>\n      <td>1</td>\n      <td>1</td>\n      <td>0</td>\n      <td>-</td>\n      <td>not acept</td>\n      <td>not furnished</td>\n      <td>R$0</td>\n      <td>R$1,200</td>\n      <td>R$41</td>\n      <td>R$16</td>\n      <td>R$1,257</td>\n    </tr>\n    <tr>\n      <th>5</th>\n      <td>1</td>\n      <td>13</td>\n      <td>1</td>\n      <td>1</td>\n      <td>0</td>\n      <td>2</td>\n      <td>acept</td>\n      <td>not furnished</td>\n      <td>R$0</td>\n      <td>R$2,200</td>\n      <td>R$42</td>\n      <td>R$28</td>\n      <td>R$2,270</td>\n    </tr>\n  </tbody>\n</table>\n</div>",
      "text/plain": "   city  area  rooms  bathroom  parking spaces floor     animal  \\\n0     1   240      3         3               4     -      acept   \n2     1   443      5         5               4     3      acept   \n3     1    73      2         2               1    12      acept   \n4     1    19      1         1               0     -  not acept   \n5     1    13      1         1               0     2      acept   \n\n       furniture      hoa rent amount property tax fire insurance     total  \n0      furnished      R$0     R$8,000      R$1,000          R$121   R$9,121  \n2      furnished  R$4,172     R$7,000      R$1,417           R$89  R$12,680  \n3  not furnished    R$700     R$1,250        R$150           R$16   R$2,116  \n4  not furnished      R$0     R$1,200         R$41           R$16   R$1,257  \n5  not furnished      R$0     R$2,200         R$42           R$28   R$2,270  "
     },
     "execution_count": 7,
     "metadata": {},
     "output_type": "execute_result"
    }
   ],
   "source": [
    "df_ = df.loc[df['city'] == 1]\r\n",
    "df_.head()"
   ]
  },
  {
   "cell_type": "code",
   "execution_count": 8,
   "metadata": {},
   "outputs": [
    {
     "name": "stderr",
     "output_type": "stream",
     "text": [
      "C:\\Users\\MichelinJV\\anaconda3\\lib\\site-packages\\pandas\\core\\generic.py:6746: SettingWithCopyWarning: \n",
      "A value is trying to be set on a copy of a slice from a DataFrame\n",
      "\n",
      "See the caveats in the documentation: https://pandas.pydata.org/pandas-docs/stable/user_guide/indexing.html#returning-a-view-versus-a-copy\n",
      "  self._update_inplace(new_data)\n"
     ]
    }
   ],
   "source": [
    "df_['floor'].replace('-',0,inplace=True)\r\n",
    "\r\n",
    "for col in ['hoa', 'rent amount', 'property tax', 'fire insurance', 'total']:\r\n",
    "    df_[col].replace('R\\$','',regex=True,inplace=True)\r\n",
    "    df_[col].replace(',','',regex=True,inplace=True)\r\n",
    "\r\n",
    "df_['hoa'].replace('Sem info', 0,inplace=True)\r\n",
    "df_['hoa'].replace('Incluso', 0,inplace=True)\r\n",
    "df_['property tax'].replace('Incluso', 0,inplace=True)\r\n"
   ]
  },
  {
   "cell_type": "code",
   "execution_count": 9,
   "metadata": {},
   "outputs": [
    {
     "name": "stderr",
     "output_type": "stream",
     "text": [
      "ipykernel_launcher:5: SettingWithCopyWarning: \n",
      "A value is trying to be set on a copy of a slice from a DataFrame.\n",
      "Try using .loc[row_indexer,col_indexer] = value instead\n",
      "\n",
      "See the caveats in the documentation: https://pandas.pydata.org/pandas-docs/stable/user_guide/indexing.html#returning-a-view-versus-a-copy\n",
      "ipykernel_launcher:6: SettingWithCopyWarning: \n",
      "A value is trying to be set on a copy of a slice from a DataFrame.\n",
      "Try using .loc[row_indexer,col_indexer] = value instead\n",
      "\n",
      "See the caveats in the documentation: https://pandas.pydata.org/pandas-docs/stable/user_guide/indexing.html#returning-a-view-versus-a-copy\n"
     ]
    }
   ],
   "source": [
    "def categorical(df, col):\r\n",
    "    c = pd.Categorical(df[col])\r\n",
    "    return c.codes\r\n",
    "\r\n",
    "df_['animal'] = categorical(df_, 'animal')\r\n",
    "df_['furniture'] = categorical(df_,'furniture')"
   ]
  },
  {
   "cell_type": "code",
   "execution_count": 10,
   "metadata": {},
   "outputs": [
    {
     "data": {
      "text/html": "<div>\n<style scoped>\n    .dataframe tbody tr th:only-of-type {\n        vertical-align: middle;\n    }\n\n    .dataframe tbody tr th {\n        vertical-align: top;\n    }\n\n    .dataframe thead th {\n        text-align: right;\n    }\n</style>\n<table border=\"1\" class=\"dataframe\">\n  <thead>\n    <tr style=\"text-align: right;\">\n      <th></th>\n      <th>city</th>\n      <th>area</th>\n      <th>rooms</th>\n      <th>bathroom</th>\n      <th>parking spaces</th>\n      <th>floor</th>\n      <th>animal</th>\n      <th>furniture</th>\n      <th>hoa</th>\n      <th>rent amount</th>\n      <th>property tax</th>\n      <th>fire insurance</th>\n      <th>total</th>\n    </tr>\n  </thead>\n  <tbody>\n    <tr>\n      <th>0</th>\n      <td>1</td>\n      <td>240</td>\n      <td>3</td>\n      <td>3</td>\n      <td>4</td>\n      <td>0</td>\n      <td>0</td>\n      <td>0</td>\n      <td>0</td>\n      <td>8000</td>\n      <td>1000</td>\n      <td>121</td>\n      <td>9121</td>\n    </tr>\n    <tr>\n      <th>2</th>\n      <td>1</td>\n      <td>443</td>\n      <td>5</td>\n      <td>5</td>\n      <td>4</td>\n      <td>3</td>\n      <td>0</td>\n      <td>0</td>\n      <td>4172</td>\n      <td>7000</td>\n      <td>1417</td>\n      <td>89</td>\n      <td>12680</td>\n    </tr>\n    <tr>\n      <th>3</th>\n      <td>1</td>\n      <td>73</td>\n      <td>2</td>\n      <td>2</td>\n      <td>1</td>\n      <td>12</td>\n      <td>0</td>\n      <td>1</td>\n      <td>700</td>\n      <td>1250</td>\n      <td>150</td>\n      <td>16</td>\n      <td>2116</td>\n    </tr>\n    <tr>\n      <th>4</th>\n      <td>1</td>\n      <td>19</td>\n      <td>1</td>\n      <td>1</td>\n      <td>0</td>\n      <td>0</td>\n      <td>1</td>\n      <td>1</td>\n      <td>0</td>\n      <td>1200</td>\n      <td>41</td>\n      <td>16</td>\n      <td>1257</td>\n    </tr>\n    <tr>\n      <th>5</th>\n      <td>1</td>\n      <td>13</td>\n      <td>1</td>\n      <td>1</td>\n      <td>0</td>\n      <td>2</td>\n      <td>0</td>\n      <td>1</td>\n      <td>0</td>\n      <td>2200</td>\n      <td>42</td>\n      <td>28</td>\n      <td>2270</td>\n    </tr>\n  </tbody>\n</table>\n</div>",
      "text/plain": "   city  area  rooms  bathroom  parking spaces floor  animal  furniture   hoa  \\\n0     1   240      3         3               4     0       0          0     0   \n2     1   443      5         5               4     3       0          0  4172   \n3     1    73      2         2               1    12       0          1   700   \n4     1    19      1         1               0     0       1          1     0   \n5     1    13      1         1               0     2       0          1     0   \n\n  rent amount property tax fire insurance  total  \n0        8000         1000            121   9121  \n2        7000         1417             89  12680  \n3        1250          150             16   2116  \n4        1200           41             16   1257  \n5        2200           42             28   2270  "
     },
     "execution_count": 10,
     "metadata": {},
     "output_type": "execute_result"
    }
   ],
   "source": [
    "df_.head()"
   ]
  },
  {
   "cell_type": "code",
   "execution_count": 11,
   "metadata": {},
   "outputs": [
    {
     "data": {
      "text/plain": "city               int64\narea               int64\nrooms              int64\nbathroom           int64\nparking spaces     int64\nfloor             object\nanimal              int8\nfurniture           int8\nhoa               object\nrent amount       object\nproperty tax      object\nfire insurance    object\ntotal             object\ndtype: object"
     },
     "execution_count": 11,
     "metadata": {},
     "output_type": "execute_result"
    }
   ],
   "source": [
    "df_.dtypes"
   ]
  },
  {
   "cell_type": "code",
   "execution_count": 12,
   "metadata": {},
   "outputs": [],
   "source": [
    "df_ = df_.astype(np.int64)"
   ]
  },
  {
   "cell_type": "code",
   "execution_count": 13,
   "metadata": {},
   "outputs": [],
   "source": [
    "y = df_['rent amount']\r\n",
    "X = df_.drop(['rent amount','total'], axis=1)"
   ]
  },
  {
   "cell_type": "code",
   "execution_count": 14,
   "metadata": {},
   "outputs": [],
   "source": [
    "X_train, X_test, y_train, y_test = train_test_split(X,y, test_size=0.2,random_state=0)"
   ]
  },
  {
   "cell_type": "code",
   "execution_count": 15,
   "metadata": {},
   "outputs": [],
   "source": [
    "scaler = MinMaxScaler()\r\n",
    "X_train = scaler.fit_transform(X_train)\r\n",
    "X_test = scaler.transform(X_test) "
   ]
  },
  {
   "cell_type": "code",
   "execution_count": 16,
   "metadata": {},
   "outputs": [
    {
     "name": "stdout",
     "output_type": "stream",
     "text": [
      "Linear Score: 0.9761872774497381\n",
      "Tree Score: 0.9708888236995452\n",
      "AdaBoost Score: 0.9346172133226536\n"
     ]
    }
   ],
   "source": [
    "linear_model = LinearRegression()\r\n",
    "linear_model.fit(X_train,y_train)\r\n",
    "\r\n",
    "dt_regressor = DecisionTreeRegressor(max_depth=4)\r\n",
    "dt_regressor.fit(X_train,y_train)\r\n",
    "\r\n",
    "ab_regressor = AdaBoostRegressor(DecisionTreeRegressor(max_depth=4),n_estimators=300, random_state=0)\r\n",
    "ab_regressor.fit(X_train,y_train)\r\n",
    "\r\n",
    "print(\"Linear Score: \" + str(linear_model.score(X_train,y_train)))\r\n",
    "print(\"Tree Score: \" + str(dt_regressor.score(X_train,y_train)))\r\n",
    "print(\"AdaBoost Score: \" + str(ab_regressor.score(X_train,y_train)))"
   ]
  },
  {
   "cell_type": "code",
   "execution_count": 18,
   "metadata": {},
   "outputs": [],
   "source": [
    "def plot_feature_importance(feature_importances, title, feature_names):\r\n",
    "    # Normaliza os valores importantes\r\n",
    "    feature_importances = 100.0 * (feature_importances/max(feature_importances))\r\n",
    "\r\n",
    "    # Classifica os valores do índice e inverte-os para ficarem dispostos \r\n",
    "    # em ordem decrescente de importância\r\n",
    "    index_sorted = np.flipud(np.argsort(feature_importances))\r\n",
    "\r\n",
    "    # Centraliza a localização das variáveis no eixo x\r\n",
    "    pos = np.arange(index_sorted.shape[0])\r\n",
    "\r\n",
    "    # Desenha o gráfico de barras\r\n",
    "    plt.figure(figsize=(8,6))\r\n",
    "    plt.bar(pos,feature_importances[index_sorted],align='center')\r\n",
    "    plt.xticks(pos, feature_names[index_sorted],rotation=45)\r\n",
    "    plt.ylabel(\"Importância Relativa\")\r\n",
    "    plt.title(title)\r\n",
    "    plt.tight_layout()\r\n",
    "    plt.show()     "
   ]
  },
  {
   "cell_type": "code",
   "execution_count": 19,
   "metadata": {},
   "outputs": [
    {
     "data": {
      "image/png": "[encoded data removed]",
      "text/plain": "<Figure size 576x432 with 1 Axes>"
     },
     "metadata": {
      "needs_background": "light"
     },
     "output_type": "display_data"
    },
    {
     "data": {
      "image/png": "[encoded data removed]",
      "text/plain": "<Figure size 576x432 with 1 Axes>"
     },
     "metadata": {
      "needs_background": "light"
     },
     "output_type": "display_data"
    }
   ],
   "source": [
    "plot_feature_importance(dt_regressor.feature_importances_, \"Decision Tree Regression\", df_.columns)\r\n",
    "plot_feature_importance(ab_regressor.feature_importances_, \"AdaBoost Regression\", df_.columns)"
   ]
  },
  {
   "cell_type": "code",
   "execution_count": 17,
   "metadata": {},
   "outputs": [
    {
     "name": "stdout",
     "output_type": "stream",
     "text": [
      "Linear Mean squared error: 1129026.5599686771\n",
      "Linear Explaned variance score: 0.915027606725309\n",
      "\n",
      "Tree Mean squared error: 283646.0842506104\n",
      "Tree Explaned variance score: 0.9786441438961183\n",
      "\n",
      "AdaBoost Mean squared error: 921734.0315194107\n",
      "AdaBoost Explaned variance score: 0.951362873572509\n"
     ]
    }
   ],
   "source": [
    "linear_pred = linear_model.predict(X_test)\r\n",
    "dt_pred = dt_regressor.predict(X_test)\r\n",
    "ab_pred = ab_regressor.predict(X_test)\r\n",
    "\r\n",
    "print(\"Linear Mean squared error: \" + str(mean_squared_error(y_test,linear_pred)))\r\n",
    "print(\"Linear Explaned variance score: \" + str(explained_variance_score(y_test,linear_pred)))\r\n",
    "print()\r\n",
    "print(\"Tree Mean squared error: \" + str(mean_squared_error(y_test,dt_pred)))\r\n",
    "print(\"Tree Explaned variance score: \" + str(explained_variance_score(y_test,dt_pred)))\r\n",
    "print()\r\n",
    "print(\"AdaBoost Mean squared error: \" + str(mean_squared_error(y_test,ab_pred)))\r\n",
    "print(\"AdaBoost Explaned variance score: \" + str(explained_variance_score(y_test,ab_pred)))\r\n"
   ]
  },
  {
   "cell_type": "code",
   "execution_count": 20,
   "metadata": {},
   "outputs": [
    {
     "data": {
      "text/html": "<div>\n<style scoped>\n    .dataframe tbody tr th:only-of-type {\n        vertical-align: middle;\n    }\n\n    .dataframe tbody tr th {\n        vertical-align: top;\n    }\n\n    .dataframe thead th {\n        text-align: right;\n    }\n</style>\n<table border=\"1\" class=\"dataframe\">\n  <thead>\n    <tr style=\"text-align: right;\">\n      <th></th>\n      <th>Real</th>\n      <th>Linear_Forecast</th>\n      <th>Tree_Forecast</th>\n      <th>AdaBoost_Foecast</th>\n    </tr>\n  </thead>\n  <tbody>\n    <tr>\n      <th>4557</th>\n      <td>1800</td>\n      <td>2090.0</td>\n      <td>1847.0</td>\n      <td>2539.0</td>\n    </tr>\n    <tr>\n      <th>3986</th>\n      <td>1500</td>\n      <td>2255.0</td>\n      <td>1847.0</td>\n      <td>2746.0</td>\n    </tr>\n    <tr>\n      <th>35</th>\n      <td>6600</td>\n      <td>7147.0</td>\n      <td>7250.0</td>\n      <td>6737.0</td>\n    </tr>\n    <tr>\n      <th>5352</th>\n      <td>2500</td>\n      <td>2744.0</td>\n      <td>2565.0</td>\n      <td>3933.0</td>\n    </tr>\n    <tr>\n      <th>3828</th>\n      <td>1750</td>\n      <td>1999.0</td>\n      <td>1364.0</td>\n      <td>2917.0</td>\n    </tr>\n    <tr>\n      <th>...</th>\n      <td>...</td>\n      <td>...</td>\n      <td>...</td>\n      <td>...</td>\n    </tr>\n    <tr>\n      <th>5834</th>\n      <td>10000</td>\n      <td>9889.0</td>\n      <td>10339.0</td>\n      <td>9163.0</td>\n    </tr>\n    <tr>\n      <th>5227</th>\n      <td>4800</td>\n      <td>4878.0</td>\n      <td>4664.0</td>\n      <td>6016.0</td>\n    </tr>\n    <tr>\n      <th>5085</th>\n      <td>3100</td>\n      <td>3412.0</td>\n      <td>3202.0</td>\n      <td>3835.0</td>\n    </tr>\n    <tr>\n      <th>2049</th>\n      <td>15000</td>\n      <td>14142.0</td>\n      <td>14986.0</td>\n      <td>14113.0</td>\n    </tr>\n    <tr>\n      <th>3027</th>\n      <td>4000</td>\n      <td>3700.0</td>\n      <td>3880.0</td>\n      <td>4332.0</td>\n    </tr>\n  </tbody>\n</table>\n<p>1050 rows × 4 columns</p>\n</div>",
      "text/plain": "       Real  Linear_Forecast  Tree_Forecast  AdaBoost_Foecast\n4557   1800           2090.0         1847.0            2539.0\n3986   1500           2255.0         1847.0            2746.0\n35     6600           7147.0         7250.0            6737.0\n5352   2500           2744.0         2565.0            3933.0\n3828   1750           1999.0         1364.0            2917.0\n...     ...              ...            ...               ...\n5834  10000           9889.0        10339.0            9163.0\n5227   4800           4878.0         4664.0            6016.0\n5085   3100           3412.0         3202.0            3835.0\n2049  15000          14142.0        14986.0           14113.0\n3027   4000           3700.0         3880.0            4332.0\n\n[1050 rows x 4 columns]"
     },
     "execution_count": 20,
     "metadata": {},
     "output_type": "execute_result"
    }
   ],
   "source": [
    "predict = pd.DataFrame()\r\n",
    "\r\n",
    "predict['Real'] = y_test\r\n",
    "predict['Linear_Forecast'] = linear_pred.round()\r\n",
    "predict['Tree_Forecast'] = dt_pred.round()\r\n",
    "predict['AdaBoost_Foecast'] = ab_pred.round()\r\n",
    "\r\n",
    "predict"
   ]
  },
  {
   "cell_type": "code",
   "execution_count": null,
   "metadata": {},
   "outputs": [],
   "source": []
  }
 ],
 "metadata": {
  "kernelspec": {
   "display_name": "Python 3.7.6 64-bit ('base': conda)",
   "name": "python376jvsc74a57bd0611cf997d5a3904788d8bf9711afacc9acf0278f5ab751438d0be3f34b870c8a"
  },
  "language_info": {
   "codemirror_mode": {
    "name": "ipython",
    "version": 3
   },
   "file_extension": ".py",
   "mimetype": "text/x-python",
   "name": "python",
   "nbconvert_exporter": "python",
   "pygments_lexer": "ipython3",
   "version": "3.7.6"
  },
  "orig_nbformat": 2
 },
 "nbformat": 4,
 "nbformat_minor": 2
}